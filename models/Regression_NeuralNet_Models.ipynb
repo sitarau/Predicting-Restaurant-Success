{
  "nbformat": 4,
  "nbformat_minor": 0,
  "metadata": {
    "kernelspec": {
      "display_name": "Python 3",
      "language": "python",
      "name": "python3"
    },
    "language_info": {
      "codemirror_mode": {
        "name": "ipython",
        "version": 3
      },
      "file_extension": ".py",
      "mimetype": "text/x-python",
      "name": "python",
      "nbconvert_exporter": "python",
      "pygments_lexer": "ipython3",
      "version": "3.6.9"
    },
    "colab": {
      "name": "Modeling v1 updated.ipynb",
      "provenance": []
    }
  },
  "cells": [
    {
      "cell_type": "code",
      "metadata": {
        "id": "2so7LFCcTX5f",
        "colab_type": "code",
        "colab": {}
      },
      "source": [
        "import pandas as pd\n",
        "import random"
      ],
      "execution_count": null,
      "outputs": []
    },
    {
      "cell_type": "code",
      "metadata": {
        "id": "LBwL-Ub5TX5x",
        "colab_type": "code",
        "colab": {}
      },
      "source": [
        "Dep = pd.DataFrame(pd.read_csv('3yrDEP.csv'))\n",
        "Dep.drop('Unnamed: 0', axis =1, inplace = True)\n",
        "Indep = pd.DataFrame(pd.read_csv('IndependentMatrix.csv'))\n",
        "Indep.drop('Unnamed: 0', axis = 1, inplace = True)\n",
        "df = pd.merge(Indep, Dep, on='business_id')\n",
        "df.drop('0', axis = 1, inplace = True)\n"
      ],
      "execution_count": null,
      "outputs": []
    },
    {
      "cell_type": "code",
      "metadata": {
        "id": "h9JEddgpTX51",
        "colab_type": "code",
        "colab": {}
      },
      "source": [
        "df.head()\n",
        "df.shape"
      ],
      "execution_count": null,
      "outputs": []
    },
    {
      "cell_type": "code",
      "metadata": {
        "id": "jsXv32ONTX59",
        "colab_type": "code",
        "colab": {}
      },
      "source": [
        "duplicateColumnNames = set()\n",
        "    # Iterate over all the columns in dataframe\n",
        "for x in range(df.shape[1]):\n",
        "    # Select column at xth index.\n",
        "    col = df.iloc[:, x]\n",
        "    # Iterate over all the columns in DataFrame from (x+1)th index till end\n",
        "    for y in range(x + 1, df.shape[1]):\n",
        "        # Select column at yth index.\n",
        "        otherCol = df.iloc[:, y]\n",
        "        # Check if two columns at x 7 y index are equal\n",
        "        if col.equals(otherCol):\n",
        "            duplicateColumnNames.add(df.columns.values[y])\n",
        "\n",
        "list(duplicateColumnNames)"
      ],
      "execution_count": null,
      "outputs": []
    },
    {
      "cell_type": "code",
      "metadata": {
        "id": "KNPFqGxCTX6D",
        "colab_type": "code",
        "colab": {}
      },
      "source": [
        "df = df.drop(columns=duplicateColumnNames)\n",
        "df.shape\n",
        "df.to_csv('dataToUseInModel2.csv')"
      ],
      "execution_count": null,
      "outputs": []
    },
    {
      "cell_type": "code",
      "metadata": {
        "id": "1hR4HC9LTX6T",
        "colab_type": "code",
        "colab": {}
      },
      "source": [
        "# assigns inputs and outputs\n",
        "X = df[df.columns[3:271]]\n",
        "y = df['3']"
      ],
      "execution_count": null,
      "outputs": []
    },
    {
      "cell_type": "code",
      "metadata": {
        "id": "8XUDHakrTX6W",
        "colab_type": "code",
        "colab": {}
      },
      "source": [
        "# linear model\n",
        "from sklearn.linear_model import LinearRegression\n",
        "model = LinearRegression()\n",
        "model.fit(X, y)\n",
        "dfA = df\n",
        "dfA['predicted'] = model.predict(X)"
      ],
      "execution_count": null,
      "outputs": []
    },
    {
      "cell_type": "code",
      "metadata": {
        "id": "gZ8QEh6kTX6c",
        "colab_type": "code",
        "colab": {}
      },
      "source": [
        "#plot\n",
        "# !pip install matplotlib\n",
        "import matplotlib.pyplot as plt\n",
        "dfA[['3', 'predicted']].plot(alpha=0.7)"
      ],
      "execution_count": null,
      "outputs": []
    },
    {
      "cell_type": "code",
      "metadata": {
        "id": "0MWTTLTETX6k",
        "colab_type": "code",
        "colab": {}
      },
      "source": [
        "# check params\n",
        "params = pd.Series(model.coef_, index=X.columns)\n",
        "params"
      ],
      "execution_count": null,
      "outputs": []
    },
    {
      "cell_type": "code",
      "metadata": {
        "id": "f--pfHIcTX6n",
        "colab_type": "code",
        "colab": {}
      },
      "source": [
        "# computes r2\n",
        "from sklearn.metrics import r2_score\n",
        "r2 = r2_score(dfA['3'], dfA['predicted'])\n",
        "r2"
      ],
      "execution_count": null,
      "outputs": []
    },
    {
      "cell_type": "code",
      "metadata": {
        "id": "rZmICf4YTX6s",
        "colab_type": "code",
        "colab": {}
      },
      "source": [
        "adjR2 = 1-(1-r2)*(len(dfA)-1)/(len(dfA)-len(dfA.columns)-1)\n",
        "adjR2"
      ],
      "execution_count": null,
      "outputs": []
    },
    {
      "cell_type": "code",
      "metadata": {
        "id": "JmEYalzBTX6w",
        "colab_type": "code",
        "colab": {}
      },
      "source": [
        "Zips = []\n",
        "for x in df['postal_code']:\n",
        "    if x not in Zips:\n",
        "        Zips.append(x)"
      ],
      "execution_count": null,
      "outputs": []
    },
    {
      "cell_type": "code",
      "metadata": {
        "id": "h6ztc0yuTX61",
        "colab_type": "code",
        "colab": {}
      },
      "source": [
        "ziptoCTY = pd.DataFrame(pd.read_csv('ziptoCounty.csv'))\n",
        "ziptoCTY.drop('Unnamed: 0', axis = 1, inplace = True)"
      ],
      "execution_count": null,
      "outputs": []
    },
    {
      "cell_type": "code",
      "metadata": {
        "id": "pcAYh_K3TX64",
        "colab_type": "code",
        "colab": {}
      },
      "source": [
        "def topXparams(ser, x):\n",
        "    analyze = pd.DataFrame(ser)\n",
        "    topnumbers = x\n",
        "    counter = 0\n",
        "    values = [99999]\n",
        "    labels = []\n",
        "    while counter < topnumbers:\n",
        "        ascend = 0\n",
        "        templab = ''\n",
        "        for y in analyze.index:\n",
        "            test = analyze.loc[y,analyze.columns[0]]\n",
        "            if abs(test) > abs(ascend) and abs(test) < abs(values[-1]):\n",
        "                ascend = test\n",
        "                templab = y\n",
        "        values.append(ascend)\n",
        "        labels.append(templab)\n",
        "        counter += 1\n",
        "    values = values[1:]\n",
        "    dictionary = dict(zip(labels, values))\n",
        "    return dictionary"
      ],
      "execution_count": null,
      "outputs": []
    },
    {
      "cell_type": "code",
      "metadata": {
        "id": "MPq4BUj_TX69",
        "colab_type": "code",
        "colab": {}
      },
      "source": [
        "def regressZip(zipcode, numParams):\n",
        "    spec = pd.DataFrame(dfraw[dfraw['postal_code'] == zipcode])\n",
        "    spec.drop(spec.columns[89:177], axis = 1, inplace = True) #drop all zipcode constant data\n",
        "    spec.drop(spec.columns[165:181], axis = 1, inplace = True)\n",
        "    xNew = spec[spec.columns[3:-1]]\n",
        "    yNew = spec['3']\n",
        "    model = LinearRegression()\n",
        "    model.fit(xNew, yNew)\n",
        "    spec['predicted'] = model.predict(xNew)\n",
        "    r2 = r2_score(spec['3'], spec['predicted'])\n",
        "    print('Zipcode: ' + str(zipcode))\n",
        "    \n",
        "    sub = ziptoCTY[ziptoCTY['zip'] == zipcode]\n",
        "    print('STATE: ' + sub.loc[sub.index[0],'STNAME'])\n",
        "    print('COUNTY: ' + sub.loc[sub.index[0],'CTYNAME'])\n",
        "    \n",
        "    print('Number of Restaurants: ' + str(len(spec)))\n",
        "    print('r2 = ' + str(r2))\n",
        "    ser = pd.Series(model.coef_, index=xNew.columns)\n",
        "    print(topXparams(ser, numParams))\n",
        "    spec[['3', 'predicted']].plot(alpha=0.8)"
      ],
      "execution_count": null,
      "outputs": []
    },
    {
      "cell_type": "code",
      "metadata": {
        "id": "oVGwrpOfTX7D",
        "colab_type": "code",
        "colab": {}
      },
      "source": [
        "Dep = pd.DataFrame(pd.read_csv('3yrDEP.csv'))\n",
        "Dep.drop('Unnamed: 0', axis =1, inplace = True)\n",
        "Indep = pd.DataFrame(pd.read_csv('IndependentMatrix.csv'))\n",
        "Indep.drop('Unnamed: 0', axis = 1, inplace = True)\n",
        "dfraw = pd.merge(Indep, Dep, on='business_id')\n",
        "dfraw.drop('0', axis = 1, inplace = True)"
      ],
      "execution_count": null,
      "outputs": []
    },
    {
      "cell_type": "code",
      "metadata": {
        "id": "33XmrCdQTX7m",
        "colab_type": "code",
        "colab": {}
      },
      "source": [
        "from sklearn.model_selection import train_test_split\n",
        "import tensorflow as tf\n",
        "from tensorflow import keras"
      ],
      "execution_count": null,
      "outputs": []
    },
    {
      "cell_type": "code",
      "metadata": {
        "id": "NyvCdXjeTX7o",
        "colab_type": "code",
        "colab": {}
      },
      "source": [
        "X_train, X_test, y_train, y_test = train_test_split(xNew, yNew, test_size = 0.2)"
      ],
      "execution_count": null,
      "outputs": []
    },
    {
      "cell_type": "code",
      "metadata": {
        "id": "LkM92d52TX7u",
        "colab_type": "code",
        "colab": {}
      },
      "source": [
        "X_train.shape, X_test.shape"
      ],
      "execution_count": null,
      "outputs": []
    },
    {
      "cell_type": "code",
      "metadata": {
        "id": "0eLSgoqXTX73",
        "colab_type": "code",
        "colab": {}
      },
      "source": [
        "y_train"
      ],
      "execution_count": null,
      "outputs": []
    },
    {
      "cell_type": "code",
      "metadata": {
        "id": "55ZPojcyTX76",
        "colab_type": "code",
        "colab": {}
      },
      "source": [
        "!python -m pip install keras==2.1.5"
      ],
      "execution_count": null,
      "outputs": []
    },
    {
      "cell_type": "code",
      "metadata": {
        "id": "hGTAONHfTX8E",
        "colab_type": "code",
        "colab": {}
      },
      "source": [
        "import tensorflow as tf"
      ],
      "execution_count": 1,
      "outputs": []
    },
    {
      "cell_type": "code",
      "metadata": {
        "id": "WNRJEYIgTX8G",
        "colab_type": "code",
        "colab": {}
      },
      "source": [
        "X_train.shape"
      ],
      "execution_count": null,
      "outputs": []
    },
    {
      "cell_type": "code",
      "metadata": {
        "id": "Kb3q8MqvTX8K",
        "colab_type": "code",
        "colab": {}
      },
      "source": [
        "model.layers"
      ],
      "execution_count": null,
      "outputs": []
    },
    {
      "cell_type": "code",
      "metadata": {
        "id": "gemUdIXpTX8Q",
        "colab_type": "code",
        "colab": {}
      },
      "source": [
        "X_train.shape"
      ],
      "execution_count": null,
      "outputs": []
    },
    {
      "cell_type": "code",
      "metadata": {
        "id": "iXKrUXY5TX8W",
        "colab_type": "code",
        "colab": {}
      },
      "source": [
        "modelFinal = tf.keras.Sequential()\n",
        "modelFinal.add(tf.keras.layers.Dense(100, input_shape=(268,),activation='softmax'))\n",
        "modelFinal.add(tf.keras.layers.Dense(1, input_shape=(100,),activation='tanh'))\n",
        "mse = tf.keras.losses.mean_squared_error\n",
        "modelFinal.compile(loss=mse, optimizer = tf.keras.optimizers.SGD())\n",
        "modelFinal.fit(X_train.values, y_train.values, epochs=10, batch_size=6000, verbose=2, validation_data=(X_test.values, y_test.values))"
      ],
      "execution_count": null,
      "outputs": []
    },
    {
      "cell_type": "code",
      "metadata": {
        "id": "yz4jVlXATX8Z",
        "colab_type": "code",
        "colab": {}
      },
      "source": [
        "y_pred_labels = modelFinal.predict_proba(X_test)\n",
        "print(y_pred_labels)"
      ],
      "execution_count": null,
      "outputs": []
    },
    {
      "cell_type": "code",
      "metadata": {
        "id": "mnsfLILkTX8f",
        "colab_type": "code",
        "colab": {}
      },
      "source": [
        "pred = y_pred_labels.flatten()"
      ],
      "execution_count": null,
      "outputs": []
    },
    {
      "cell_type": "code",
      "metadata": {
        "id": "DFk8SEFqTX8i",
        "colab_type": "code",
        "colab": {}
      },
      "source": [
        "import sklearn as sk"
      ],
      "execution_count": null,
      "outputs": []
    },
    {
      "cell_type": "code",
      "metadata": {
        "id": "jdv9vB4oTX8n",
        "colab_type": "code",
        "colab": {}
      },
      "source": [
        "sk.metrics.mean_squared_error(pred,y_test)"
      ],
      "execution_count": null,
      "outputs": []
    },
    {
      "cell_type": "code",
      "metadata": {
        "id": "j7j5t09KTX8t",
        "colab_type": "code",
        "colab": {}
      },
      "source": [
        "import matplotlib.pyplot as plt"
      ],
      "execution_count": null,
      "outputs": []
    },
    {
      "cell_type": "code",
      "metadata": {
        "id": "uor6a33VTX8z",
        "colab_type": "code",
        "colab": {},
        "outputId": "ae41f7c2-ec81-49b2-a1a5-8c7756937265"
      },
      "source": [
        "plt.plot(pred)"
      ],
      "execution_count": null,
      "outputs": [
        {
          "output_type": "execute_result",
          "data": {
            "text/plain": [
              "[<matplotlib.lines.Line2D at 0x1a3dabf240>]"
            ]
          },
          "metadata": {
            "tags": []
          },
          "execution_count": 47
        },
        {
          "output_type": "display_data",
          "data": {
            "image/png": "[encoded data removed]",
            "text/plain": [
              "<matplotlib.figure.Figure at 0x1a33c2c9e8>"
            ]
          },
          "metadata": {
            "tags": []
          }
        }
      ]
    }
  ]
}