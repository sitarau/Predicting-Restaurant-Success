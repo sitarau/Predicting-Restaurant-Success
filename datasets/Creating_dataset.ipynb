{
  "nbformat": 4,
  "nbformat_minor": 0,
  "metadata": {
    "kernelspec": {
      "display_name": "Python 3",
      "language": "python",
      "name": "python3"
    },
    "language_info": {
      "codemirror_mode": {
        "name": "ipython",
        "version": 3
      },
      "file_extension": ".py",
      "mimetype": "text/x-python",
      "name": "python",
      "nbconvert_exporter": "python",
      "pygments_lexer": "ipython3",
      "version": "3.7.4"
    },
    "colab": {
      "name": "Creating_dataset.ipynb",
      "provenance": []
    }
  },
  "cells": [
    {
      "cell_type": "code",
      "metadata": {
        "id": "AzfxLK9GNeO-",
        "colab_type": "code",
        "colab": {}
      },
      "source": [
        "# import the pandas package\n",
        "import pandas as pd"
      ],
      "execution_count": null,
      "outputs": []
    },
    {
      "cell_type": "code",
      "metadata": {
        "id": "xG0MfRc2NePG",
        "colab_type": "code",
        "colab": {}
      },
      "source": [
        "Food = pd.read_csv('Food.csv')\n",
        "Food.drop(['Unnamed: 0','categories'], axis = 1, inplace = True)\n",
        "df_business = pd.read_json('business.json', lines = True)\n",
        "df_business.drop(df_business.columns[6:], axis = 1, inplace = True)\n",
        "df_business.drop(df_business.columns[1:5], axis = 1, inplace = True)\n",
        "df = pd.merge(Food, df_business, on='business_id')\n",
        "df"
      ],
      "execution_count": null,
      "outputs": []
    },
    {
      "cell_type": "code",
      "metadata": {
        "id": "Kn4Nx7FvNePP",
        "colab_type": "code",
        "colab": {}
      },
      "source": [
        "atts = pd.read_csv('restaurantCleanAtts.csv')\n",
        "attsDens = pd.read_csv('zipDensityByAtts.csv')\n",
        "df1 = pd.merge(df,atts, on='business_id')\n",
        "attsDens = attsDens.rename(columns={\"ZIP\": \"postal_code\"})\n",
        "df2 = pd.merge(df1,attsDens, on='postal_code')"
      ],
      "execution_count": null,
      "outputs": []
    },
    {
      "cell_type": "code",
      "metadata": {
        "id": "azOUlusRNePT",
        "colab_type": "code",
        "colab": {}
      },
      "source": [
        "df2.drop(['Unnamed: 0_x','Unnamed: 0_y'], axis = 1, inplace = True)"
      ],
      "execution_count": null,
      "outputs": []
    },
    {
      "cell_type": "code",
      "metadata": {
        "id": "LOjthbk0NePh",
        "colab_type": "code",
        "colab": {}
      },
      "source": [
        "cats = pd.read_csv('NoFilterCats1Percent.csv')\n",
        "df3 = pd.merge(df2, cats, on='business_id')"
      ],
      "execution_count": null,
      "outputs": []
    },
    {
      "cell_type": "code",
      "metadata": {
        "id": "_355bf3qNePt",
        "colab_type": "code",
        "colab": {}
      },
      "source": [
        "# this has the total # of reviewed companies in a zipcode\n",
        "ZipD = pd.DataFrame(pd.read_csv('rDensityCode.csv'))\n",
        "missingValue1 = ZipD.columns[0]\n",
        "missingValue2 = ZipD.columns[1]\n",
        "ZipD.columns = ['postal_code', 'density']\n",
        "ZipD = ZipD.append({'postal_code':missingValue1,'density':missingValue2},ignore_index=True)\n",
        "df4 = pd.merge(df3,ZipD,on='postal_code')"
      ],
      "execution_count": null,
      "outputs": []
    },
    {
      "cell_type": "code",
      "metadata": {
        "id": "1KPHkQ_8NeP1",
        "colab_type": "code",
        "colab": {}
      },
      "source": [
        "pcodes = df4['postal_code']"
      ],
      "execution_count": null,
      "outputs": []
    },
    {
      "cell_type": "code",
      "metadata": {
        "id": "y5PMLuE8NeP5",
        "colab_type": "code",
        "colab": {}
      },
      "source": [
        "INTCodes = []\n",
        "for x in pcodes:\n",
        "    try: \n",
        "        int(x)\n",
        "        if x not in INTCodes:\n",
        "            INTCodes.append(x)\n",
        "    except:\n",
        "        continue"
      ],
      "execution_count": null,
      "outputs": []
    },
    {
      "cell_type": "code",
      "metadata": {
        "id": "MfEM0g92NeP-",
        "colab_type": "code",
        "colab": {}
      },
      "source": [
        "df5 = df4[df4['postal_code'].isin(INTCodes)]"
      ],
      "execution_count": null,
      "outputs": []
    },
    {
      "cell_type": "code",
      "metadata": {
        "id": "EAkRCSgaNeQB",
        "colab_type": "code",
        "colab": {}
      },
      "source": [
        "sparseIndex = []\n",
        "for row in df5.index:\n",
        "    if int(df5.loc[row,'density']) < 100:\n",
        "        sparseIndex.append(row)\n",
        "df6 = df5.drop(sparseIndex, axis = 0)"
      ],
      "execution_count": null,
      "outputs": []
    },
    {
      "cell_type": "code",
      "metadata": {
        "id": "-yvc7EXCNeQH",
        "colab_type": "code",
        "colab": {}
      },
      "source": [
        "for x in df6.index:\n",
        "    df6.loc[x,'postal_code'] = int(df6.loc[x,'postal_code'])"
      ],
      "execution_count": null,
      "outputs": []
    },
    {
      "cell_type": "code",
      "metadata": {
        "id": "0C3LojclNeQL",
        "colab_type": "code",
        "colab": {}
      },
      "source": [
        "irs17 = pd.read_csv('IRS17Calcs.csv')\n",
        "irs17 = irs17.rename(columns={\"zipcode\": \"postal_code\"})\n",
        "df7 = pd.merge(df6,irs17, on='postal_code')\n",
        "# Note, another ~100 rows lost"
      ],
      "execution_count": null,
      "outputs": []
    },
    {
      "cell_type": "code",
      "metadata": {
        "id": "8UvfGxrRNeQN",
        "colab_type": "code",
        "colab": {}
      },
      "source": [
        "df7.drop(['Unnamed: 0_x','Unnamed: 0_y'], axis = 1, inplace = True)"
      ],
      "execution_count": null,
      "outputs": []
    },
    {
      "cell_type": "code",
      "metadata": {
        "id": "datH2UiANeQZ",
        "colab_type": "code",
        "colab": {}
      },
      "source": [
        "demo = pd.read_csv('demo18_2.2.csv')\n",
        "demo.drop('Unnamed: 0', axis = 1, inplace = True)\n",
        "demo = demo.rename(columns={\"zip\": \"postal_code\"})\n",
        "df8 = pd.merge(df7,demo, on ='postal_code')"
      ],
      "execution_count": null,
      "outputs": []
    },
    {
      "cell_type": "code",
      "metadata": {
        "id": "QTD8apcsNeQn",
        "colab_type": "code",
        "colab": {}
      },
      "source": [
        "df8.to_csv('IndependentMatrix.csv')"
      ],
      "execution_count": null,
      "outputs": []
    }
  ]
}